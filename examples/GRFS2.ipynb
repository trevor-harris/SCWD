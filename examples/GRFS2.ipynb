{
 "cells": [
  {
   "cell_type": "code",
   "execution_count": 9,
   "id": "1c18d629-fbe9-4686-8fbf-422d8c5e3ced",
   "metadata": {},
   "outputs": [
    {
     "name": "stderr",
     "output_type": "stream",
     "text": [
      "/home/tharris/climate/lib/python3.12/site-packages/torch_harmonics/convolution.py:380: UserWarning: couldn't find CUDA extension, falling back to slow PyTorch implementation\n",
      "  warn(\"couldn't find CUDA extension, falling back to slow PyTorch implementation\")\n"
     ]
    }
   ],
   "source": [
    "import torch\n",
    "import torch_harmonics as th\n",
    "import scwd\n",
    "\n",
    "from torch_harmonics.random_fields import GaussianRandomFieldS2\n",
    "GRF_x = GaussianRandomFieldS2(nlat = 90)\n",
    "GRF_y = GaussianRandomFieldS2(nlat = 90)\n",
    "x = GRF_x(100)\n",
    "y = GRF_y(200)\n",
    "\n",
    "scwd_map, scwd_val = scwd.scwd(x, y)"
   ]
  },
  {
   "cell_type": "code",
   "execution_count": 10,
   "id": "71214a99-36c2-4813-8bd8-43994f886e82",
   "metadata": {},
   "outputs": [
    {
     "data": {
      "text/plain": [
       "tensor(0.0167)"
      ]
     },
     "execution_count": 10,
     "metadata": {},
     "output_type": "execute_result"
    }
   ],
   "source": [
    "scwd_val"
   ]
  },
  {
   "cell_type": "code",
   "execution_count": null,
   "id": "d99e4097-9f9e-4f35-9e1f-9f952f813b38",
   "metadata": {},
   "outputs": [],
   "source": []
  }
 ],
 "metadata": {
  "kernelspec": {
   "display_name": "Python 3 (ipykernel)",
   "language": "python",
   "name": "python3"
  },
  "language_info": {
   "codemirror_mode": {
    "name": "ipython",
    "version": 3
   },
   "file_extension": ".py",
   "mimetype": "text/x-python",
   "name": "python",
   "nbconvert_exporter": "python",
   "pygments_lexer": "ipython3",
   "version": "3.12.3"
  }
 },
 "nbformat": 4,
 "nbformat_minor": 5
}
